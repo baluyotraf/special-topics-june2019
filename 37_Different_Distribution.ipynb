{
 "cells": [
  {
   "cell_type": "code",
   "execution_count": 1,
   "metadata": {},
   "outputs": [],
   "source": [
    "import numpy as np\n",
    "from sklearn.base import clone\n",
    "from sklearn.ensemble import RandomForestClassifier\n",
    "from sklearn.model_selection import train_test_split, KFold\n",
    "from sklearn.metrics import mean_squared_error, roc_auc_score\n",
    "from matplotlib import pyplot as plt\n",
    "from matplotlib.colors import ListedColormap\n",
    "import seaborn as sns\n",
    "\n",
    "sns.set()"
   ]
  },
  {
   "cell_type": "code",
   "execution_count": 2,
   "metadata": {},
   "outputs": [],
   "source": [
    "def make_regression(func, n_elements, noise=0.0, random_state=None):\n",
    "    rng = np.random.RandomState(random_state)\n",
    "    x = rng.uniform(5.0, size=n_elements)\n",
    "    n = rng.normal(scale=noise, size=n_elements)\n",
    "    y = func(x) + n\n",
    "    return x.reshape(-1, 1), y\n",
    "\n",
    "def plot_regression_line(en, xb, yb, n=100):\n",
    "    xx = np.linspace(*xb, n).reshape(-1, 1)\n",
    "    yy = np.mean([c.predict(xx) for c in en], axis=0) \n",
    "    plt.plot(xx, yy, color='red', linewidth=20, alpha=0.3)"
   ]
  },
  {
   "cell_type": "code",
   "execution_count": 3,
   "metadata": {},
   "outputs": [],
   "source": [
    "X, y = make_regression(lambda x: x**2 + 2*x, 1000, random_state=0, noise=5.0)\n",
    "train_X, test_X, train_y, test_y = train_test_split(X, y, random_state=0, test_size=0.2)"
   ]
  },
  {
   "cell_type": "code",
   "execution_count": 4,
   "metadata": {},
   "outputs": [
    {
     "name": "stdout",
     "output_type": "stream",
     "text": [
      "Same Distribution\n",
      "AUC: 0.43570312499999997\n"
     ]
    }
   ],
   "source": [
    "dist_x = np.concatenate([\n",
    "    np.column_stack([train_X.ravel(), train_y]),\n",
    "    np.column_stack([test_X.ravel(), test_y]),\n",
    "])\n",
    "dist_y = np.concatenate([np.ones_like(train_y), np.zeros_like(test_y)])\n",
    "\n",
    "train_dist_X, test_dist_X, train_dist_y, test_dist_y = train_test_split(dist_x, dist_y, random_state=0, test_size=0.2)\n",
    "\n",
    "dist_clf = RandomForestClassifier(n_estimators=100)\n",
    "dist_clf.fit(train_dist_X, train_dist_y)\n",
    "dist_pred = dist_clf.predict_proba(test_dist_X)[:, 1]\n",
    "auc = roc_auc_score(test_dist_y, dist_pred)\n",
    "print('Same Distribution')\n",
    "print(f'AUC: {auc}')"
   ]
  },
  {
   "cell_type": "code",
   "execution_count": 5,
   "metadata": {},
   "outputs": [],
   "source": [
    "train_idx, test_idx = train_test_split(np.argsort(X.ravel()), shuffle=False, test_size=0.2)\n",
    "train_X, train_y = X[train_idx], y[train_idx]\n",
    "test_X, test_y = X[test_idx], y[test_idx]"
   ]
  },
  {
   "cell_type": "code",
   "execution_count": 6,
   "metadata": {},
   "outputs": [
    {
     "name": "stdout",
     "output_type": "stream",
     "text": [
      "Different Distribution\n",
      "Train has lower X then the Test\n",
      "AUC: 1.0\n"
     ]
    }
   ],
   "source": [
    "dist_x = np.concatenate([\n",
    "    np.column_stack([train_X.ravel(), train_y]),\n",
    "    np.column_stack([test_X.ravel(), test_y]),\n",
    "])\n",
    "dist_y = np.concatenate([np.ones_like(train_y), np.zeros_like(test_y)])\n",
    "\n",
    "train_dist_X, test_dist_X, train_dist_y, test_dist_y = train_test_split(dist_x, dist_y, random_state=0, test_size=0.2)\n",
    "\n",
    "dist_clf = RandomForestClassifier(n_estimators=100)\n",
    "dist_clf.fit(train_dist_X, train_dist_y)\n",
    "dist_pred = dist_clf.predict_proba(test_dist_X)[:, 1]\n",
    "auc = roc_auc_score(test_dist_y, dist_pred)\n",
    "print('Different Distribution')\n",
    "print('Train has lower X then the Test')\n",
    "print(f'AUC: {auc}')"
   ]
  }
 ],
 "metadata": {
  "kernelspec": {
   "display_name": "Python 3",
   "language": "python",
   "name": "python3"
  },
  "language_info": {
   "codemirror_mode": {
    "name": "ipython",
    "version": 3
   },
   "file_extension": ".py",
   "mimetype": "text/x-python",
   "name": "python",
   "nbconvert_exporter": "python",
   "pygments_lexer": "ipython3",
   "version": "3.6.8"
  }
 },
 "nbformat": 4,
 "nbformat_minor": 2
}
