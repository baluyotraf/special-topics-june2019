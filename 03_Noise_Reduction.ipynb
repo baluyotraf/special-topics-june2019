{
 "cells": [
  {
   "cell_type": "code",
   "execution_count": null,
   "metadata": {},
   "outputs": [],
   "source": [
    "import cv2\n",
    "import numpy as np\n",
    "import matplotlib.pyplot as plt\n",
    "from skimage.util import random_noise"
   ]
  },
  {
   "cell_type": "code",
   "execution_count": null,
   "metadata": {},
   "outputs": [],
   "source": [
    "IMAGE_PATH = 'piova_night.png'"
   ]
  },
  {
   "cell_type": "code",
   "execution_count": null,
   "metadata": {},
   "outputs": [],
   "source": [
    "img = cv2.imread(IMAGE_PATH, cv2.IMREAD_COLOR)\n",
    "# Opencv reads image in BRG and not in RGB so we convert\n",
    "img = img[..., ::-1]\n",
    "# Convert the numbers to an floating point intensity array\n",
    "img = img / 255.0"
   ]
  },
  {
   "cell_type": "code",
   "execution_count": null,
   "metadata": {},
   "outputs": [],
   "source": [
    "plt.imshow(img)\n",
    "plt.axis('off')\n",
    "plt.show()"
   ]
  },
  {
   "cell_type": "code",
   "execution_count": null,
   "metadata": {},
   "outputs": [],
   "source": [
    "noisy_images = [random_noise(img, seed=seed) for seed in range(128)]"
   ]
  },
  {
   "cell_type": "code",
   "execution_count": null,
   "metadata": {},
   "outputs": [],
   "source": [
    "plt.figure(figsize=(15, 10))\n",
    "for i, n in enumerate(noisy_images[:16], 1):\n",
    "    plt.subplot(4, 4, i)\n",
    "    plt.title(f'Noisy Image #{i}')\n",
    "    plt.imshow(n)\n",
    "    plt.axis('off')\n",
    "plt.show()"
   ]
  },
  {
   "cell_type": "code",
   "execution_count": null,
   "metadata": {},
   "outputs": [],
   "source": [
    "n_images = [2, 4, 8, 16, 32, 64, 128]\n",
    "mean_images = [np.mean(noisy_images[:n], axis=0) for n in n_images]"
   ]
  },
  {
   "cell_type": "code",
   "execution_count": null,
   "metadata": {},
   "outputs": [],
   "source": [
    "plt.figure(figsize=(15, 5))\n",
    "plt.subplot(2, 4, 1)\n",
    "plt.title(f'Original Image')\n",
    "plt.imshow(img)\n",
    "plt.axis('off')\n",
    "for i, m in enumerate(mean_images, 2):\n",
    "    plt.subplot(2, 4, i)\n",
    "    plt.title(f'Noise Reduction using {n_images[i-2]} images')\n",
    "    plt.imshow(m)\n",
    "    plt.axis('off')\n",
    "plt.show()"
   ]
  }
 ],
 "metadata": {
  "kernelspec": {
   "display_name": "Python 3",
   "language": "python",
   "name": "python3"
  },
  "language_info": {
   "codemirror_mode": {
    "name": "ipython",
    "version": 3
   },
   "file_extension": ".py",
   "mimetype": "text/x-python",
   "name": "python",
   "nbconvert_exporter": "python",
   "pygments_lexer": "ipython3",
   "version": "3.6.8"
  }
 },
 "nbformat": 4,
 "nbformat_minor": 2
}
